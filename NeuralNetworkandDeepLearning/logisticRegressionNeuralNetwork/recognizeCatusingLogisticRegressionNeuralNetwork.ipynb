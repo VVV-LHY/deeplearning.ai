{
 "cells": [
  {
   "cell_type": "markdown",
   "metadata": {},
   "source": [
    "这是Andrew Ng的deeplearning.ai系列的第一部课程neuralnetwork and deeplearning的第一次编程作业。即第二周之具有神经网络思维的logistic回归的编程实现。            \n",
    "大体上来说，目标是实现一个能够识别猫的简单神经网络。               \n",
    "原文件提供了datasets文件夹，旗下包含了两个文件：train_catvnoncat.h5和test_catvnoncat.h5               \n",
    "同时也提供了加载数据的源代码叫做lr_utils,以下是lr_utils的源代码                "
   ]
  },
  {
   "cell_type": "markdown",
   "metadata": {},
   "source": [
    "```\n",
    "import numpy as np\n",
    "import h5py\n",
    "\n",
    "\n",
    "def load_dataset():\n",
    "    train_dataset = h5py.File('datasets/train_catvnoncat.h5', \"r\")\n",
    "    train_set_x_orig = np.array(train_dataset[\"train_set_x\"][:]) # your train set features\n",
    "    train_set_y_orig = np.array(train_dataset[\"train_set_y\"][:]) # your train set labels\n",
    "    test_dataset = h5py.File('datasets/test_catvnoncat.h5', \"r\")\n",
    "    test_set_x_orig = np.array(test_dataset[\"test_set_x\"][:]) # your test set features\n",
    "    test_set_y_orig = np.array(test_dataset[\"test_set_y\"][:]) # your test set labels\n",
    "    classes = np.array(test_dataset[\"list_classes\"][:]) # the list of classes\n",
    "    train_set_y_orig = train_set_y_orig.reshape((1, train_set_y_orig.shape[0]))\n",
    "    test_set_y_orig = test_set_y_orig.reshape((1, test_set_y_orig.shape[0]))  \n",
    "    return train_set_x_orig, train_set_y_orig, test_set_x_orig, test_set_y_orig, classes\n",
    "```"
   ]
  },
  {
   "cell_type": "markdown",
   "metadata": {},
   "source": [
    "通过以上源代码，可以看出：(通过下面查看程序得出)         \n",
    "train_set_x_orig返回的是训练集的特征　          　\n",
    "train_set_y_orig返回的是训练集的类标　　         \n",
    "test_set_x_orig返回的是测试集的特征　　          \n",
    "test_set_y_orig返回的是测试集的类标　            　\n",
    "classes返回的是类别[b'non-cat' b'cat']        "
   ]
  },
  {
   "cell_type": "code",
   "execution_count": 2,
   "metadata": {},
   "outputs": [],
   "source": [
    "import lr_utils\n",
    "import matplotlib.pyplot as plt\n",
    "import numpy as np"
   ]
  },
  {
   "cell_type": "code",
   "execution_count": 3,
   "metadata": {},
   "outputs": [],
   "source": [
    "train_set_feature,train_set_label,test_set_feature,test_set_label,classes = lr_utils.load_dataset()"
   ]
  },
  {
   "cell_type": "code",
   "execution_count": 4,
   "metadata": {},
   "outputs": [
    {
     "data": {
      "text/plain": [
       "(209, 64, 64, 3)"
      ]
     },
     "execution_count": 4,
     "metadata": {},
     "output_type": "execute_result"
    }
   ],
   "source": [
    "train_set_feature.shape"
   ]
  },
  {
   "cell_type": "code",
   "execution_count": 5,
   "metadata": {},
   "outputs": [
    {
     "data": {
      "text/plain": [
       "(1, 209)"
      ]
     },
     "execution_count": 5,
     "metadata": {},
     "output_type": "execute_result"
    }
   ],
   "source": [
    "train_set_label.shape"
   ]
  },
  {
   "cell_type": "code",
   "execution_count": 6,
   "metadata": {},
   "outputs": [
    {
     "data": {
      "text/plain": [
       "(50, 64, 64, 3)"
      ]
     },
     "execution_count": 6,
     "metadata": {},
     "output_type": "execute_result"
    }
   ],
   "source": [
    "test_set_feature.shape"
   ]
  },
  {
   "cell_type": "code",
   "execution_count": 7,
   "metadata": {},
   "outputs": [
    {
     "data": {
      "text/plain": [
       "(1, 50)"
      ]
     },
     "execution_count": 7,
     "metadata": {},
     "output_type": "execute_result"
    }
   ],
   "source": [
    "test_set_label.shape"
   ]
  },
  {
   "cell_type": "code",
   "execution_count": 8,
   "metadata": {},
   "outputs": [
    {
     "data": {
      "text/plain": [
       "(2,)"
      ]
     },
     "execution_count": 8,
     "metadata": {},
     "output_type": "execute_result"
    }
   ],
   "source": [
    "classes.shape"
   ]
  },
  {
   "cell_type": "code",
   "execution_count": 9,
   "metadata": {},
   "outputs": [
    {
     "name": "stdout",
     "output_type": "stream",
     "text": [
      "[b'non-cat' b'cat']\n"
     ]
    }
   ],
   "source": [
    "print(classes)"
   ]
  },
  {
   "cell_type": "code",
   "execution_count": 10,
   "metadata": {},
   "outputs": [
    {
     "name": "stdout",
     "output_type": "stream",
     "text": [
      "[[0 0 1 0 0 0 0 1 0 0 0 1 0 1 1 0 0 0 0 1 0 0 0 0 1 1 0 1 0 1 0 0 0 0 0 0\n",
      "  0 0 1 0 0 1 1 0 0 0 0 1 0 0 1 0 0 0 1 0 1 1 0 1 1 1 0 0 0 0 0 0 1 0 0 1\n",
      "  0 0 0 0 0 0 0 0 0 0 0 1 1 0 0 0 1 0 0 0 1 1 1 0 0 1 0 0 0 0 1 0 1 0 1 1\n",
      "  1 1 1 1 0 0 0 0 0 1 0 0 0 1 0 0 1 0 1 0 1 1 0 0 0 1 1 1 1 1 0 0 0 0 1 0\n",
      "  1 1 1 0 1 1 0 0 0 1 0 0 1 0 0 0 0 0 1 0 1 0 1 0 0 1 1 1 0 0 1 1 0 1 0 1\n",
      "  0 0 0 0 0 1 0 0 1 0 0 0 1 0 0 0 0 1 0 0 1 0 0 0 0 0 0 0 0]]\n"
     ]
    }
   ],
   "source": [
    "print(train_set_label)"
   ]
  },
  {
   "cell_type": "code",
   "execution_count": 11,
   "metadata": {},
   "outputs": [
    {
     "data": {
      "text/plain": [
       "<matplotlib.image.AxesImage at 0x7fe8bc78d4a8>"
      ]
     },
     "execution_count": 11,
     "metadata": {},
     "output_type": "execute_result"
    },
    {
     "data": {
      "image/png": "[encoded data removed]",
      "text/plain": [
       "<Figure size 432x288 with 1 Axes>"
      ]
     },
     "metadata": {
      "needs_background": "light"
     },
     "output_type": "display_data"
    }
   ],
   "source": [
    "plt.imshow(train_set_feature[0])"
   ]
  },
  {
   "cell_type": "code",
   "execution_count": 12,
   "metadata": {},
   "outputs": [
    {
     "data": {
      "text/plain": [
       "<matplotlib.image.AxesImage at 0x7fe8bc725208>"
      ]
     },
     "execution_count": 12,
     "metadata": {},
     "output_type": "execute_result"
    },
    {
     "data": {
      "image/png": "[encoded data removed]",
      "text/plain": [
       "<Figure size 432x288 with 1 Axes>"
      ]
     },
     "metadata": {
      "needs_background": "light"
     },
     "output_type": "display_data"
    }
   ],
   "source": [
    "plt.imshow(train_set_feature[2])"
   ]
  },
  {
   "cell_type": "code",
   "execution_count": 13,
   "metadata": {},
   "outputs": [
    {
     "data": {
      "text/plain": [
       "<matplotlib.image.AxesImage at 0x7fe8bc707cf8>"
      ]
     },
     "execution_count": 13,
     "metadata": {},
     "output_type": "execute_result"
    },
    {
     "data": {
      "image/png": "[encoded data removed]",
      "text/plain": [
       "<Figure size 432x288 with 1 Axes>"
      ]
     },
     "metadata": {
      "needs_background": "light"
     },
     "output_type": "display_data"
    }
   ],
   "source": [
    "plt.imshow(test_set_feature[0])"
   ]
  },
  {
   "cell_type": "code",
   "execution_count": 14,
   "metadata": {},
   "outputs": [
    {
     "name": "stdout",
     "output_type": "stream",
     "text": [
      "训练集的照片数量 = 209\n",
      "测试集的照片数量 = 50\n"
     ]
    }
   ],
   "source": [
    "print('训练集的照片数量 = ' + str(train_set_label.shape[1]))\n",
    "print('测试集的照片数量 = ' + str(test_set_label.shape[1]))"
   ]
  },
  {
   "cell_type": "code",
   "execution_count": 15,
   "metadata": {},
   "outputs": [
    {
     "name": "stdout",
     "output_type": "stream",
     "text": [
      "训练集维度：(12288, 209)\n",
      "训练集标签维度：(1, 209)\n",
      "测试集维度：(12288, 50)\n",
      "测试集标签维度：(1, 50)\n"
     ]
    }
   ],
   "source": [
    "train_set_f = train_set_feature.reshape(209,-1).T\n",
    "test_set_f = test_set_feature.reshape(50,-1).T #-1 = 64 * 64 * 3自动计算 T转置\n",
    "print('训练集维度：' + str(train_set_f.shape))\n",
    "print('训练集标签维度：' + str(train_set_label.shape))\n",
    "print('测试集维度：' + str(test_set_f.shape))\n",
    "print('测试集标签维度：' + str(test_set_label.shape))"
   ]
  },
  {
   "cell_type": "code",
   "execution_count": 16,
   "metadata": {},
   "outputs": [
    {
     "name": "stdout",
     "output_type": "stream",
     "text": [
      "train data:\n",
      " [[0.06666667 0.76862745 0.32156863 ... 0.56078431 0.08627451 0.03137255]\n",
      " [0.12156863 0.75294118 0.27843137 ... 0.60784314 0.09411765 0.10980392]\n",
      " [0.21960784 0.74509804 0.26666667 ... 0.64705882 0.09019608 0.20784314]\n",
      " ...\n",
      " [0.         0.32156863 0.54117647 ... 0.33333333 0.01568627 0.        ]\n",
      " [0.         0.31372549 0.55294118 ... 0.41960784 0.01960784 0.        ]\n",
      " [0.         0.31764706 0.55686275 ... 0.58431373 0.         0.        ]]\n",
      "test data:\n",
      " [[0.61960784 0.45098039 1.         ... 0.16078431 0.07058824 0.52156863]\n",
      " [0.40784314 0.43137255 0.99215686 ... 0.18431373 0.07058824 0.63921569]\n",
      " [0.3254902  0.43529412 0.99607843 ... 0.32941176 0.0627451  0.29411765]\n",
      " ...\n",
      " [0.67843137 0.67058824 0.52156863 ... 0.71764706 0.56470588 0.01960784]\n",
      " [0.50196078 0.69019608 0.39607843 ... 0.55294118 0.5372549  0.08627451]\n",
      " [0.43137255 0.72941176 0.4745098  ... 0.45490196 0.42352941 0.01960784]]\n"
     ]
    }
   ],
   "source": [
    "train_data = train_set_f / 255\n",
    "test_data = test_set_f / 255\n",
    "print('train data:\\n', train_data)\n",
    "print('test data:\\n', test_data)"
   ]
  },
  {
   "attachments": {
    "image.png": {
     "image/png": "[encoded data removed]"
    }
   },
   "cell_type": "markdown",
   "metadata": {},
   "source": [
    "现在开始构建神经网络，神经网络的主要步骤如下：       \n",
    "1.输入层          \n",
    "2.初始化w，b           \n",
    "3.循环           \n",
    "　　3.1正向传播\n",
    "　　3.2反向传播\n",
    "　　3.3梯度下降 　　　　\n",
    "![image.png](attachment:image.png)"
   ]
  },
  {
   "cell_type": "code",
   "execution_count": 17,
   "metadata": {},
   "outputs": [],
   "source": [
    "#sigmoid(x) = 1 / (1 + e^-x)\n",
    "def sigmoid(x):\n",
    "    \n",
    "    result = 1 / (1 + np.exp(-x))\n",
    "\n",
    "    return result"
   ]
  },
  {
   "cell_type": "code",
   "execution_count": 18,
   "metadata": {},
   "outputs": [
    {
     "name": "stdout",
     "output_type": "stream",
     "text": [
      "sigmoid(0) =  0.5\n",
      "sigmoid(10) =  0.9996646498695336\n",
      "sigmoid(-10) =  0.0003353501304664781\n"
     ]
    }
   ],
   "source": [
    "print('sigmoid(0) = ', sigmoid(0))\n",
    "print('sigmoid(10) = ', sigmoid(8))\n",
    "print('sigmoid(-10) = ', sigmoid(-8))\n"
   ]
  },
  {
   "cell_type": "code",
   "execution_count": 19,
   "metadata": {},
   "outputs": [],
   "source": [
    "def init_w_b(dim):\n",
    "    \n",
    "    w = np.zeros(shape = (dim,1))\n",
    "    b = 0\n",
    "    \n",
    "    assert w.shape == (dim,1)#assert断言来确定数组的维数正确，否则抛出断言error\n",
    "    assert isinstance(b,int) or isinstance(b,float)#assert断言来确定b的类型，否则抛出断言error\n",
    "    \n",
    "    return (w,b)"
   ]
  },
  {
   "cell_type": "code",
   "execution_count": 20,
   "metadata": {},
   "outputs": [],
   "source": [
    "def propagate(w, b, X, Y):\n",
    "    '''\n",
    "    w：权重矩阵 维度 = (64*64*3，1)\n",
    "    b：偏移量\n",
    "    X：输入 维度 = (64*64*3,样本数)\n",
    "    Y：标签矢量(cat = 1， noncat = 0)，维度 = (1，样本数)\n",
    "    \n",
    "    cost：对logistic回归计算损失函数L后在进行累加求成本得到代价函数J 参考公式3,4\n",
    "    dw：由反向传播推导可得X(A - Y)^T\n",
    "    db：由反向传播推导可得A - Y\n",
    "    '''\n",
    "    m = X.shape[1]#样本数\n",
    "    \n",
    "    #正向传播\n",
    "    A = sigmoid(np.dot(w.T,X) + b) # z = w^T * X + b; A = sigmoid(z)\n",
    "    cost = (-1 / m) * np.sum(Y * np.log(A) + (1 - Y) * np.log(1 - A))\n",
    "    \n",
    "    #反向传播\n",
    "    dw = (1 / m) * np.dot(X, (A - Y).T)#可参考我的博客的手动推导或者吴恩达老师的视频\n",
    "    db = (1 / m) * np.sum(A - Y)\n",
    "    \n",
    "    #断言确定维度\n",
    "    assert dw.shape == w.shape\n",
    "    assert db.dtype == float\n",
    "    cost = np.squeeze(cost)#把维度为1的嵌套去掉\n",
    "    assert cost.shape == ()\n",
    "    \n",
    "    #创建字典保存dw，和db\n",
    "    grads = {\n",
    "        \"dw\": dw,\n",
    "        \"db\": db\n",
    "    }\n",
    "    \n",
    "    return (grads, cost)"
   ]
  },
  {
   "cell_type": "code",
   "execution_count": 21,
   "metadata": {},
   "outputs": [
    {
     "name": "stdout",
     "output_type": "stream",
     "text": [
      "--------------------------------test propagate---------------------------------------\n",
      "[[0.49402381]\n",
      " [0.88361582]]\n",
      "2\n",
      "[[0.62158373 0.55019851]\n",
      " [0.33120795 0.57291772]]\n",
      "[[1 1]]\n",
      "dw: [[-0.03759223]\n",
      " [-0.0282165 ]]\n",
      "db:  -0.06383859248692436\n",
      "cost:  0.06598350072846237\n"
     ]
    }
   ],
   "source": [
    "print(\"--------------------------------test propagate---------------------------------------\")\n",
    "w = np.random.rand(2,1)\n",
    "b = 2\n",
    "X = np.random.rand(2,2)\n",
    "Y = np.random.randint(0,2,size = (1,2))\n",
    "print(w)\n",
    "print(b)\n",
    "print(X)\n",
    "print(Y)\n",
    "grads,cost = propagate(w,b,X,Y)\n",
    "print(\"dw: \" + str(grads['dw']))\n",
    "print('db: ', str(grads['db']))\n",
    "print('cost: ', cost)\n"
   ]
  },
  {
   "cell_type": "code",
   "execution_count": 22,
   "metadata": {},
   "outputs": [],
   "source": [
    "def optimize(w, b, X, Y, num_iterations, learning_rate):\n",
    "    \"\"\"\n",
    "    此函数使用梯度下降法来优化w、b\n",
    "    \n",
    "    parameter：\n",
    "    w：权重矩阵 维度 = (64*64*3，1)\n",
    "    b：偏移量\n",
    "    X：输入 维度 = (64*64*3,样本数)\n",
    "    Y：标签矢量(cat = 1， noncat = 0)，维度 = (1，样本数)\n",
    "    num_iterations：迭代的次数\n",
    "    learning_rate：学习率α\n",
    "    \n",
    "    return：\n",
    "    params：w和b的字典\n",
    "    grads：dw和db的字典\n",
    "    cost:用于绘制曲线\n",
    "    \n",
    "    process：\n",
    "    1.使用propagate函数计算当前参数w和b的成本和梯度，forward propagate计算成本，back propagate计算梯度dw和db\n",
    "    2.使用梯度下降法来更新参数\n",
    "    \"\"\"\n",
    "    costs = []\n",
    "    \n",
    "    for i in range(num_iterations):\n",
    "        grads, cost = propagate(w, b, X, Y)\n",
    "        \n",
    "        dw = grads[\"dw\"]\n",
    "        db = grads[\"db\"]\n",
    "        \n",
    "        w = w - learning_rate * dw\n",
    "        b = b - learning_rate * db\n",
    "        \n",
    "        #记录成本\n",
    "        if i % 100 == 0:\n",
    "            costs.append(cost)\n",
    "            print('迭代次数：%i, 误差值: %f' % (i, cost))\n",
    "            \n",
    "    params = {\n",
    "        \"w\" : w,\n",
    "        \"b\" : b\n",
    "    }\n",
    "    grads  = {\n",
    "        \"dw\" : dw,\n",
    "        \"db\" : db\n",
    "    }\n",
    "    \n",
    "    return (params, grads, costs)\n"
   ]
  },
  {
   "cell_type": "code",
   "execution_count": 23,
   "metadata": {},
   "outputs": [
    {
     "name": "stdout",
     "output_type": "stream",
     "text": [
      "---------------------------------test optimize------------------------------------------------------\n",
      "迭代次数：0, 误差值: 0.100147\n",
      "迭代次数：100, 误差值: 0.091457\n",
      "迭代次数：200, 误差值: 0.084115\n",
      "迭代次数：300, 误差值: 0.077834\n",
      "迭代次数：400, 误差值: 0.072405\n",
      "w = [[0.53930609]\n",
      " [0.54083633]]\n",
      "b = 2.353349708613905\n",
      "dw = [[-0.01386187]\n",
      " [-0.02146682]]\n",
      "db = -0.06541172029525827\n",
      "costs =  [0.10014720090357594, 0.09145733240132031, 0.08411471324008675, 0.07783443439284668, 0.07240549271229493]\n"
     ]
    }
   ],
   "source": [
    "print(\"---------------------------------test optimize------------------------------------------------------\")\n",
    "w = np.random.rand(2,1)\n",
    "b = 2\n",
    "X = np.random.rand(2,2)\n",
    "Y = np.random.randint(0,2,size = (1,2))\n",
    "params, grads, costs = optimize(w, b, X, Y, 500, learning_rate = 0.009)\n",
    "print('w = ' + str(params['w']))\n",
    "print('b = ' + str(params['b']))\n",
    "print('dw = ' + str(grads['dw']))\n",
    "print('db = ' + str(grads['db']))\n",
    "print('costs = ', costs)"
   ]
  },
  {
   "cell_type": "code",
   "execution_count": 24,
   "metadata": {},
   "outputs": [],
   "source": [
    "def predict(w, b, X):\n",
    "    \"\"\"\n",
    "    使用已经优化好的参数w和b来预测输入值X的标签是0还是1\n",
    "    \n",
    "    parameter：\n",
    "    w：权重矩阵 维度 = (64*64*3，1)\n",
    "    b：偏移量\n",
    "    X：输入 维度 = (64*64*3,样本数)\n",
    "    \n",
    "    return:\n",
    "    predict_label:返回预测的类别是0/1\n",
    "    \"\"\"\n",
    "    m = X.shape[1]#样本数\n",
    "    predict_label = np.zeros(shape = (1, m))\n",
    "    w = w.reshape(X.shape[0], 1)\n",
    "    \n",
    "    A = sigmoid(np.dot(w.T, X) + b)\n",
    "    for i in range(m):\n",
    "        predict_label[0, i] = 1 if A[0, i] > 0.5 else 0\n",
    "        \n",
    "    assert predict_label.shape == (1, m)\n",
    "    \n",
    "    return predict_label"
   ]
  },
  {
   "cell_type": "code",
   "execution_count": 25,
   "metadata": {},
   "outputs": [
    {
     "name": "stdout",
     "output_type": "stream",
     "text": [
      "--------------------------------test predict----------------------------------------------------------\n",
      "[[1. 1.]]\n"
     ]
    }
   ],
   "source": [
    "print('--------------------------------test predict----------------------------------------------------------')\n",
    "w = np.random.rand(2,1)\n",
    "b = 2\n",
    "X = np.random.rand(2,2)\n",
    "predict_label = predict(w, b, X)\n",
    "print(predict_label)"
   ]
  },
  {
   "cell_type": "code",
   "execution_count": 26,
   "metadata": {},
   "outputs": [],
   "source": [
    "def model(trainData,trainLabel,testData,testLabel,num_iterations = 2000, learning_rate = 0.05):\n",
    "    \"\"\"\n",
    "    parameters:\n",
    "    trainData:训练集数据，维度=(64*64*3, m = 209)\n",
    "    trainLabel:训练集标签，维度=(1, m)\n",
    "    testData:测试集数据，维度=(64*64*3, n = 50)\n",
    "    testLabel:测试集标签，维度=(1, n)\n",
    "    num_iterations:迭代次数\n",
    "    learning_rate:学习率\n",
    "    \n",
    "    return：\n",
    "    dic：返回有关模型信息的字典\n",
    "    \"\"\"\n",
    "    w, b = init_w_b(trainData.shape[0])\n",
    "    \n",
    "    params, grads, costs = optimize(w, b, trainData, trainLabel, num_iterations, learning_rate)\n",
    "    \n",
    "    w, b = params['w'], params['b']\n",
    "    \n",
    "    predict_train = predict(w, b, trainData)\n",
    "    predict_test  = predict(w, b, testData)\n",
    "    \n",
    "    print('训练集accuracy：', format(100 - np.mean(np.abs(predict_train - trainLabel)) * 100), '%')\n",
    "    print('测试集accuracy：', format(100 - np.mean(np.abs(predict_test  - testLabel )) * 100), '%')\n",
    "    \n",
    "    dic = {\n",
    "        'costs' : costs,\n",
    "        'predict_train' : predict_train,\n",
    "        'predict_test'  : predict_test,\n",
    "        'w' : w,\n",
    "        'b' : b,\n",
    "        'iterations' : num_iterations,\n",
    "        'learning_rate' : learning_rate\n",
    "    } \n",
    "    \n",
    "    return dic"
   ]
  },
  {
   "cell_type": "code",
   "execution_count": 27,
   "metadata": {},
   "outputs": [
    {
     "name": "stdout",
     "output_type": "stream",
     "text": [
      "-------------------------------------test model------------------------------------------------\n",
      "迭代次数：0, 误差值: 0.693147\n",
      "迭代次数：100, 误差值: 0.584508\n",
      "迭代次数：200, 误差值: 0.466949\n",
      "迭代次数：300, 误差值: 0.376007\n",
      "迭代次数：400, 误差值: 0.331463\n",
      "迭代次数：500, 误差值: 0.303273\n",
      "迭代次数：600, 误差值: 0.279880\n",
      "迭代次数：700, 误差值: 0.260042\n",
      "迭代次数：800, 误差值: 0.242941\n",
      "迭代次数：900, 误差值: 0.228004\n",
      "迭代次数：1000, 误差值: 0.214820\n",
      "迭代次数：1100, 误差值: 0.203078\n",
      "迭代次数：1200, 误差值: 0.192544\n",
      "迭代次数：1300, 误差值: 0.183033\n",
      "迭代次数：1400, 误差值: 0.174399\n",
      "迭代次数：1500, 误差值: 0.166521\n",
      "迭代次数：1600, 误差值: 0.159305\n",
      "迭代次数：1700, 误差值: 0.152667\n",
      "迭代次数：1800, 误差值: 0.146542\n",
      "迭代次数：1900, 误差值: 0.140872\n",
      "迭代次数：2000, 误差值: 0.135608\n",
      "迭代次数：2100, 误差值: 0.130708\n",
      "迭代次数：2200, 误差值: 0.126137\n",
      "迭代次数：2300, 误差值: 0.121861\n",
      "迭代次数：2400, 误差值: 0.117855\n",
      "迭代次数：2500, 误差值: 0.114093\n",
      "迭代次数：2600, 误差值: 0.110554\n",
      "迭代次数：2700, 误差值: 0.107219\n",
      "迭代次数：2800, 误差值: 0.104072\n",
      "迭代次数：2900, 误差值: 0.101097\n",
      "训练集accuracy： 99.52153110047847 %\n",
      "测试集accuracy： 68.0 %\n"
     ]
    }
   ],
   "source": [
    "print('-------------------------------------test model------------------------------------------------')\n",
    "realtest = model(train_data, train_set_label, test_data, test_set_label, num_iterations = 3000, learning_rate = 0.005)"
   ]
  },
  {
   "cell_type": "code",
   "execution_count": 28,
   "metadata": {},
   "outputs": [
    {
     "data": {
      "image/png": "[encoded data removed]",
      "text/plain": [
       "<Figure size 432x288 with 1 Axes>"
      ]
     },
     "metadata": {
      "needs_background": "light"
     },
     "output_type": "display_data"
    }
   ],
   "source": [
    "costs = np.squeeze(realtest['costs'])\n",
    "plt.plot(costs)\n",
    "plt.ylabel('cost')\n",
    "plt.xlabel('iterations(per 100)')\n",
    "plt.title('learning rate = ' + str(realtest['learning_rate']))\n",
    "plt.show()"
   ]
  },
  {
   "cell_type": "code",
   "execution_count": 29,
   "metadata": {},
   "outputs": [
    {
     "name": "stdout",
     "output_type": "stream",
     "text": [
      "learning rate: 0.01\n",
      "迭代次数：0, 误差值: 0.693147\n",
      "迭代次数：100, 误差值: 0.823921\n",
      "迭代次数：200, 误差值: 0.418944\n",
      "迭代次数：300, 误差值: 0.617350\n",
      "迭代次数：400, 误差值: 0.522116\n",
      "迭代次数：500, 误差值: 0.387709\n",
      "迭代次数：600, 误差值: 0.236254\n",
      "迭代次数：700, 误差值: 0.154222\n",
      "迭代次数：800, 误差值: 0.135328\n",
      "迭代次数：900, 误差值: 0.124971\n",
      "迭代次数：1000, 误差值: 0.116478\n",
      "迭代次数：1100, 误差值: 0.109193\n",
      "迭代次数：1200, 误差值: 0.102804\n",
      "迭代次数：1300, 误差值: 0.097130\n",
      "迭代次数：1400, 误差值: 0.092043\n",
      "训练集accuracy： 99.52153110047847 %\n",
      "测试集accuracy： 68.0 %\n",
      "\n",
      "-------------------------------------------------------------------------------------------------\n",
      "\n",
      "learning rate: 0.001\n",
      "迭代次数：0, 误差值: 0.693147\n",
      "迭代次数：100, 误差值: 0.591289\n",
      "迭代次数：200, 误差值: 0.555796\n",
      "迭代次数：300, 误差值: 0.528977\n",
      "迭代次数：400, 误差值: 0.506881\n",
      "迭代次数：500, 误差值: 0.487880\n",
      "迭代次数：600, 误差值: 0.471108\n",
      "迭代次数：700, 误差值: 0.456046\n",
      "迭代次数：800, 误差值: 0.442350\n",
      "迭代次数：900, 误差值: 0.429782\n",
      "迭代次数：1000, 误差值: 0.418164\n",
      "迭代次数：1100, 误差值: 0.407362\n",
      "迭代次数：1200, 误差值: 0.397269\n",
      "迭代次数：1300, 误差值: 0.387802\n",
      "迭代次数：1400, 误差值: 0.378888\n",
      "训练集accuracy： 88.99521531100478 %\n",
      "测试集accuracy： 64.0 %\n",
      "\n",
      "-------------------------------------------------------------------------------------------------\n",
      "\n",
      "learning rate: 0.0001\n",
      "迭代次数：0, 误差值: 0.693147\n",
      "迭代次数：100, 误差值: 0.643677\n",
      "迭代次数：200, 误差值: 0.635737\n",
      "迭代次数：300, 误差值: 0.628572\n",
      "迭代次数：400, 误差值: 0.622040\n",
      "迭代次数：500, 误差值: 0.616029\n",
      "迭代次数：600, 误差值: 0.610455\n",
      "迭代次数：700, 误差值: 0.605248\n",
      "迭代次数：800, 误差值: 0.600354\n",
      "迭代次数：900, 误差值: 0.595729\n",
      "迭代次数：1000, 误差值: 0.591339\n",
      "迭代次数：1100, 误差值: 0.587153\n",
      "迭代次数：1200, 误差值: 0.583149\n",
      "迭代次数：1300, 误差值: 0.579307\n",
      "迭代次数：1400, 误差值: 0.575611\n",
      "训练集accuracy： 68.42105263157895 %\n",
      "测试集accuracy： 36.0 %\n",
      "\n",
      "-------------------------------------------------------------------------------------------------\n",
      "\n"
     ]
    },
    {
     "data": {
      "image/png": "[encoded data removed]",
      "text/plain": [
       "<Figure size 432x288 with 1 Axes>"
      ]
     },
     "metadata": {
      "needs_background": "light"
     },
     "output_type": "display_data"
    }
   ],
   "source": [
    "learning_rates = [0.01, 0.001, 0.0001]\n",
    "models = {}\n",
    "\n",
    "for i in learning_rates:\n",
    "    print('learning rate: ' + str(i))\n",
    "    models[str(i)] = model(train_data, train_set_label, test_data, test_set_label, num_iterations = 1500, learning_rate = i)\n",
    "    print('\\n' + '-------------------------------------------------------------------------------------------------' + '\\n')\n",
    "\n",
    "for i in learning_rates:\n",
    "    plt.plot(np.squeeze(models[str(i)]['costs']), label = str(models[str(i)]['learning_rate']))\n",
    "\n",
    "plt.ylabel('cost')\n",
    "plt.xlabel('iterations(per 100)')\n",
    "\n",
    "legend = plt.legend(loc = 'upper center')\n",
    "frame = legend.get_frame()\n",
    "frame.set_facecolor('0.90')\n",
    "plt.show()"
   ]
  },
  {
   "cell_type": "code",
   "execution_count": null,
   "metadata": {},
   "outputs": [],
   "source": []
  }
 ],
 "metadata": {
  "kernelspec": {
   "display_name": "Python 3",
   "language": "python",
   "name": "python3"
  },
  "language_info": {
   "codemirror_mode": {
    "name": "ipython",
    "version": 3
   },
   "file_extension": ".py",
   "mimetype": "text/x-python",
   "name": "python",
   "nbconvert_exporter": "python",
   "pygments_lexer": "ipython3",
   "version": "3.7.3"
  }
 },
 "nbformat": 4,
 "nbformat_minor": 2
}
