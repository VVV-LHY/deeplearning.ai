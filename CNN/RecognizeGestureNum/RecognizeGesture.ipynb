{
 "cells": [
  {
   "cell_type": "code",
   "execution_count": 1,
   "metadata": {},
   "outputs": [],
   "source": [
    "import h5py\n",
    "import torch\n",
    "import numpy as np\n",
    "import matplotlib.pyplot as plt\n",
    "import torchvision\n",
    "import torch.utils.data as Data\n",
    "\n",
    "EPOCH = 1\n",
    "BATCH_SIZE = 50\n",
    "LR = 0.001"
   ]
  },
  {
   "cell_type": "code",
   "execution_count": 2,
   "metadata": {},
   "outputs": [],
   "source": [
    "def loadData():\n",
    "    train_dataset = h5py.File('datasets/train_signs.h5', \"r\")\n",
    "    train_set_x_orig = np.array(train_dataset[\"train_set_x\"][:]) # your train set features\n",
    "    train_set_y_orig = np.array(train_dataset[\"train_set_y\"][:]) # your train set labels\n",
    "    test_dataset = h5py.File('datasets/test_signs.h5', \"r\")\n",
    "    test_set_x_orig = np.array(test_dataset[\"test_set_x\"][:]) # your test set features\n",
    "    test_set_y_orig = np.array(test_dataset[\"test_set_y\"][:]) # your test set labels\n",
    "    classes = np.array(test_dataset[\"list_classes\"][:]) # the list of classes\n",
    "    train_set_y_orig = train_set_y_orig.reshape((1, train_set_y_orig.shape[0]))\n",
    "    test_set_y_orig = test_set_y_orig.reshape((1, test_set_y_orig.shape[0]))\n",
    "    return train_set_x_orig, train_set_y_orig, test_set_x_orig, test_set_y_orig, classes"
   ]
  },
  {
   "cell_type": "code",
   "execution_count": 3,
   "metadata": {},
   "outputs": [],
   "source": [
    "train_set_x_orig, train_set_y_orig, test_set_x_orig, test_set_y_orig, classes = loadData()"
   ]
  },
  {
   "cell_type": "code",
   "execution_count": 4,
   "metadata": {},
   "outputs": [
    {
     "name": "stdout",
     "output_type": "stream",
     "text": [
      "train_set_x_orig shape: (1080, 64, 64, 3)\n",
      "test_set_x_orig shape: (120, 64, 64, 3)\n",
      "train_set_y_orig shape: (1, 1080)\n",
      "test_set_y_orig shape: (1, 120)\n"
     ]
    }
   ],
   "source": [
    "print(\"train_set_x_orig shape:\", train_set_x_orig.shape)\n",
    "print(\"test_set_x_orig shape:\", test_set_x_orig.shape)\n",
    "print(\"train_set_y_orig shape:\", train_set_y_orig.shape)\n",
    "print(\"test_set_y_orig shape:\", test_set_y_orig.shape)"
   ]
  },
  {
   "cell_type": "code",
   "execution_count": 5,
   "metadata": {},
   "outputs": [
    {
     "name": "stdout",
     "output_type": "stream",
     "text": [
      "(1080, 3, 64, 64)\n"
     ]
    }
   ],
   "source": [
    "train_set_x_orig = train_set_x_orig.transpose(0, 3, 1, 2)\n",
    "test_set_x_orig = test_set_x_orig.transpose(0, 3, 1, 2)\n",
    "print(train_set_x_orig.shape)"
   ]
  },
  {
   "cell_type": "code",
   "execution_count": 6,
   "metadata": {},
   "outputs": [],
   "source": [
    "class subDataset(Data.dataset.Dataset):\n",
    "    def __init__(self, Data, label):\n",
    "        self.Data = Data\n",
    "        self.label = label\n",
    "    def __len__(self):\n",
    "        return len(self.Data)\n",
    "    def __getitem__(self, index):\n",
    "        data = torch.Tensor(self.Data[index])\n",
    "        label = torch.Tensor(self.label[index]).long()\n",
    "        return data, label"
   ]
  },
  {
   "cell_type": "code",
   "execution_count": 7,
   "metadata": {},
   "outputs": [],
   "source": [
    "dataset = subDataset(train_set_x_orig, train_set_y_orig.T)\n",
    "test_x = torch.Tensor(test_set_x_orig)\n",
    "test_y = torch.Tensor(test_set_y_orig.T)\n",
    "test_y = test_y.squeeze(1)"
   ]
  },
  {
   "cell_type": "code",
   "execution_count": 8,
   "metadata": {},
   "outputs": [],
   "source": [
    "dataloader = Data.dataloader.DataLoader(dataset = dataset, batch_size = 2, shuffle = True)"
   ]
  },
  {
   "cell_type": "code",
   "execution_count": 9,
   "metadata": {},
   "outputs": [],
   "source": [
    "class CNN(torch.nn.Module):\n",
    "    def __init__(self):\n",
    "        super(CNN, self).__init__()\n",
    "        self.conv1 = torch.nn.Sequential(#(3,64,64)\n",
    "            torch.nn.Conv2d(in_channels = 3, out_channels = 6, kernel_size = 5, stride = 1, padding = 2),#(6,64,64)\n",
    "            torch.nn.ReLU(),#(6,64,64)\n",
    "            torch.nn.MaxPool2d(kernel_size = 2, stride = 2),#(6,32,32)  \n",
    "        )\n",
    "        self.conv2 = torch.nn.Sequential(#(6,32,32)  \n",
    "            torch.nn.Conv2d(6, 16, 5, 1, 2),#(16,32,32)  \n",
    "            torch.nn.ReLU(),#(16,32,32)  \n",
    "            torch.nn.MaxPool2d(2, 2)#(16,16,16) \n",
    "        )\n",
    "        self.FC1 = torch.nn.Sequential(\n",
    "            torch.nn.Linear(16 * 16 * 16, 120),\n",
    "            torch.nn.ReLU()\n",
    "        )\n",
    "        self.FC2 = torch.nn.Sequential(\n",
    "            torch.nn.Linear(120, 84),\n",
    "            torch.nn.ReLU()\n",
    "        )\n",
    "        self.FC3 = torch.nn.Sequential(\n",
    "            torch.nn.Linear(84, 10),\n",
    "        )\n",
    "    \n",
    "    def forward(self, x):\n",
    "        x = self.conv1(x)\n",
    "        x = self.conv2(x)#(batch,16,16,16)\n",
    "        x = x.view(x.size(0), -1)\n",
    "        x = self.FC1(x)\n",
    "        x = self.FC2(x)\n",
    "        x = self.FC3(x)\n",
    "\n",
    "        return x"
   ]
  },
  {
   "cell_type": "code",
   "execution_count": 10,
   "metadata": {},
   "outputs": [
    {
     "name": "stdout",
     "output_type": "stream",
     "text": [
      "CNN(\n",
      "  (conv1): Sequential(\n",
      "    (0): Conv2d(3, 6, kernel_size=(5, 5), stride=(1, 1), padding=(2, 2))\n",
      "    (1): ReLU()\n",
      "    (2): MaxPool2d(kernel_size=2, stride=2, padding=0, dilation=1, ceil_mode=False)\n",
      "  )\n",
      "  (conv2): Sequential(\n",
      "    (0): Conv2d(6, 16, kernel_size=(5, 5), stride=(1, 1), padding=(2, 2))\n",
      "    (1): ReLU()\n",
      "    (2): MaxPool2d(kernel_size=2, stride=2, padding=0, dilation=1, ceil_mode=False)\n",
      "  )\n",
      "  (FC1): Sequential(\n",
      "    (0): Linear(in_features=4096, out_features=120, bias=True)\n",
      "    (1): ReLU()\n",
      "  )\n",
      "  (FC2): Sequential(\n",
      "    (0): Linear(in_features=120, out_features=84, bias=True)\n",
      "    (1): ReLU()\n",
      "  )\n",
      "  (FC3): Sequential(\n",
      "    (0): Linear(in_features=84, out_features=10, bias=True)\n",
      "  )\n",
      ")\n"
     ]
    }
   ],
   "source": [
    "cnn = CNN()\n",
    "print(cnn)"
   ]
  },
  {
   "cell_type": "code",
   "execution_count": 11,
   "metadata": {},
   "outputs": [],
   "source": [
    "optimizer = torch.optim.Adam(cnn.parameters(), lr=LR)\n",
    "loss_func = torch.nn.CrossEntropyLoss()"
   ]
  },
  {
   "cell_type": "code",
   "execution_count": 16,
   "metadata": {},
   "outputs": [
    {
     "name": "stdout",
     "output_type": "stream",
     "text": [
      "Epoch:  0 | train loss: 0.0363 | test accuracy: 0.79\n",
      "Epoch:  0 | train loss: 0.0061 | test accuracy: 0.77\n",
      "Epoch:  0 | train loss: 0.0494 | test accuracy: 0.82\n",
      "Epoch:  0 | train loss: 0.8140 | test accuracy: 0.81\n",
      "Epoch:  0 | train loss: 0.9992 | test accuracy: 0.80\n",
      "Epoch:  0 | train loss: 0.1444 | test accuracy: 0.84\n",
      "Epoch:  0 | train loss: 0.0190 | test accuracy: 0.82\n",
      "Epoch:  0 | train loss: 0.3147 | test accuracy: 0.74\n",
      "Epoch:  0 | train loss: 0.0118 | test accuracy: 0.80\n",
      "Epoch:  0 | train loss: 0.0544 | test accuracy: 0.82\n",
      "Epoch:  0 | train loss: 0.4165 | test accuracy: 0.83\n"
     ]
    }
   ],
   "source": [
    "for epoch in range(EPOCH):\n",
    "    for step, (b_x, b_y) in enumerate(dataloader):   # gives batch data, normalize x when iterate train_loader\n",
    "\n",
    "        output = cnn(b_x)              # cnn output\n",
    "        loss = loss_func(output, b_y.squeeze(1))   # cross entropy loss\n",
    "        optimizer.zero_grad()           # clear gradients for this training step\n",
    "        loss.backward()                 # backpropagation, compute gradients\n",
    "        optimizer.step()                # apply gradients\n",
    "        \n",
    "        if step % 50 == 0:\n",
    "            test_output = cnn(test_x)\n",
    "            pred_y = torch.max(test_output, 1)[1].data.numpy()\n",
    "            accuracy = float((pred_y == test_y.data.numpy()).astype(int).sum()) / float(test_y.size(0))\n",
    "            print('Epoch: ', epoch, '| train loss: %.4f' % loss.data.numpy(), '| test accuracy: %.2f' % accuracy)\n",
    "           \n",
    "                "
   ]
  },
  {
   "cell_type": "code",
   "execution_count": null,
   "metadata": {},
   "outputs": [],
   "source": []
  }
 ],
 "metadata": {
  "kernelspec": {
   "display_name": "Python 3",
   "language": "python",
   "name": "python3"
  },
  "language_info": {
   "codemirror_mode": {
    "name": "ipython",
    "version": 3
   },
   "file_extension": ".py",
   "mimetype": "text/x-python",
   "name": "python",
   "nbconvert_exporter": "python",
   "pygments_lexer": "ipython3",
   "version": "3.7.3"
  }
 },
 "nbformat": 4,
 "nbformat_minor": 2
}
